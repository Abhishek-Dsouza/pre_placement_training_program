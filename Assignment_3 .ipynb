{
 "cells": [
  {
   "cell_type": "markdown",
   "id": "ecd7c1b5",
   "metadata": {},
   "source": [
    "\n",
    "## 1. Scenario: A company wants to analyze the sales performance of its products in different regions. They have collected the following data:\n",
    "  ###  Region A: [10, 15, 12, 8, 14]\n",
    "   ### Region B: [18, 20, 16, 22, 25]\n",
    "   ### Calculate the mean sales for each region.\n"
   ]
  },
  {
   "cell_type": "code",
   "execution_count": 1,
   "id": "6373db58",
   "metadata": {},
   "outputs": [],
   "source": [
    "import numpy as np \n",
    "import pandas as pd"
   ]
  },
  {
   "cell_type": "code",
   "execution_count": 19,
   "id": "a407a31b",
   "metadata": {},
   "outputs": [
    {
     "name": "stdout",
     "output_type": "stream",
     "text": [
      "Mean sales for Region A: 11.8\n",
      "Mean sales for Region B: 20.2\n"
     ]
    }
   ],
   "source": [
    "region_a_sales = pd.Series([10, 15, 12, 8, 14])\n",
    "region_b_sales = pd.Series([18, 20, 16, 22, 25])\n",
    "\n",
    "mean_region_a = region_a_sales.mean()\n",
    "mean_region_b = region_b_sales.mean()\n",
    "\n",
    "print(\"Mean sales for Region A:\", mean_region_a)\n",
    "print(\"Mean sales for Region B:\", mean_region_b)\n"
   ]
  },
  {
   "cell_type": "markdown",
   "id": "092b3eb7",
   "metadata": {},
   "source": [
    "## 2. Scenario: A survey is conducted to measure customer satisfaction on a scale of 1 to 5. The data collected is as follows:\n",
    "   ## [4, 5, 2, 3, 5, 4, 3, 2, 4, 5]\n",
    "   ### Calculate the mode of the survey responses.\n"
   ]
  },
  {
   "cell_type": "code",
   "execution_count": 22,
   "id": "dac86b6f",
   "metadata": {},
   "outputs": [
    {
     "name": "stdout",
     "output_type": "stream",
     "text": [
      "Mode of the survey responses: 4\n"
     ]
    }
   ],
   "source": [
    "import statistics\n",
    "\n",
    "survey_responses = [4, 5, 2, 3, 5, 4, 3, 2, 4, 5]\n",
    "mode_response = statistics.mode(survey_responses)\n",
    "\n",
    "print(\"Mode of the survey responses:\", mode_response)\n"
   ]
  },
  {
   "cell_type": "markdown",
   "id": "a675cabd",
   "metadata": {},
   "source": [
    "## 3. Scenario: A company wants to compare the salaries of two departments. The salary data for Department A and Department B are as follows:\n",
    "  ### Department A: [5000, 6000, 5500, 7000]\n",
    "  ### Department B: [4500, 5500, 5800, 6000, 5200]\n",
    "  ### Calculate the median salary for each department.\n"
   ]
  },
  {
   "cell_type": "code",
   "execution_count": 23,
   "id": "387a3275",
   "metadata": {},
   "outputs": [
    {
     "name": "stdout",
     "output_type": "stream",
     "text": [
      "Median salary for Department A: 5750.0\n",
      "Median salary for Department B: 5500.0\n"
     ]
    }
   ],
   "source": [
    "department_a_salaries = pd.Series([5000, 6000, 5500, 7000])\n",
    "department_b_salaries = pd.Series([4500, 5500, 5800, 6000, 5200])\n",
    "\n",
    "median_department_a = department_a_salaries.median()\n",
    "median_department_b = department_b_salaries.median()\n",
    "\n",
    "print(\"Median salary for Department A:\", median_department_a)\n",
    "print(\"Median salary for Department B:\", median_department_b)\n"
   ]
  },
  {
   "cell_type": "markdown",
   "id": "4d250ce9",
   "metadata": {},
   "source": [
    "## 4. Scenario: A data analyst wants to determine the variability in the daily stock prices of a company. The data collected is as follows:\n",
    "   ### [25.5, 24.8, 26.1, 25.3, 24.9]\n",
    "   ### Calculate the range of the stock prices.\n"
   ]
  },
  {
   "cell_type": "code",
   "execution_count": 25,
   "id": "5a6ca0f5",
   "metadata": {},
   "outputs": [
    {
     "name": "stdout",
     "output_type": "stream",
     "text": [
      "Range of the stock prices: 1.3000000000000007\n"
     ]
    }
   ],
   "source": [
    "\n",
    "stock_prices = np.array([25.5, 24.8, 26.1, 25.3, 24.9])\n",
    "price_range = np.ptp(stock_prices)\n",
    "\n",
    "print(\"Range of the stock prices:\", price_range)"
   ]
  },
  {
   "cell_type": "markdown",
   "id": "754037bf",
   "metadata": {},
   "source": [
    "## 5. Scenario: A study is conducted to compare the performance of two different teaching methods. The test scores of the students in each group are as follows:\n",
    "   ## Group A: [85, 90, 92, 88, 91]\n",
    "   ## Group B: [82, 88, 90, 86, 87]\n",
    "   ### Perform a t-test to determine if there is a significant difference in the mean scores between the two groups.\n"
   ]
  },
  {
   "cell_type": "code",
   "execution_count": 26,
   "id": "38b0380b",
   "metadata": {},
   "outputs": [
    {
     "name": "stdout",
     "output_type": "stream",
     "text": [
      "T-statistic: 1.4312528946642733\n",
      "P-value: 0.19023970239078333\n",
      "There is no significant difference in the mean scores between the two groups.\n"
     ]
    }
   ],
   "source": [
    "import scipy.stats as stats\n",
    "\n",
    "group_a_scores = [85, 90, 92, 88, 91]\n",
    "group_b_scores = [82, 88, 90, 86, 87]\n",
    "\n",
    "t_statistic, p_value = stats.ttest_ind(group_a_scores, group_b_scores)\n",
    "\n",
    "alpha = 0.05  # significance level\n",
    "\n",
    "print(\"T-statistic:\", t_statistic)\n",
    "print(\"P-value:\", p_value)\n",
    "\n",
    "if p_value < alpha:\n",
    "    print(\"There is a significant difference in the mean scores between the two groups.\")\n",
    "else:\n",
    "    print(\"There is no significant difference in the mean scores between the two groups.\")\n"
   ]
  },
  {
   "cell_type": "markdown",
   "id": "77084394",
   "metadata": {},
   "source": [
    "## 6. Scenario: A company wants to analyze the relationship between advertising expenditure and sales. The data collected is as follows:\n",
    "   ### Advertising Expenditure (in thousands): [10, 15, 12, 8, 14]\n",
    "   ### Sales (in thousands): [25, 30, 28, 20, 26]\n",
    "   ### Calculate the correlation coefficient between advertising expenditure and sales.\n"
   ]
  },
  {
   "cell_type": "code",
   "execution_count": 27,
   "id": "f4788458",
   "metadata": {},
   "outputs": [
    {
     "name": "stdout",
     "output_type": "stream",
     "text": [
      "Correlation coefficient: 0.8757511375750132\n"
     ]
    }
   ],
   "source": [
    "ad_expenditure = pd.Series([10, 15, 12, 8, 14])\n",
    "sales = pd.Series([25, 30, 28, 20, 26])\n",
    "\n",
    "correlation_coefficient = ad_expenditure.corr(sales)\n",
    "\n",
    "print(\"Correlation coefficient:\", correlation_coefficient)\n"
   ]
  },
  {
   "cell_type": "markdown",
   "id": "32260860",
   "metadata": {},
   "source": [
    "## 7. Scenario: A survey is conducted to measure the heights of a group of people. The data collected is as follows:\n",
    "   ### [160, 170, 165, 155, 175, 180, 170]\n",
    "   ### Calculate the standard deviation of the heights.\n"
   ]
  },
  {
   "cell_type": "code",
   "execution_count": 29,
   "id": "d2361009",
   "metadata": {},
   "outputs": [
    {
     "name": "stdout",
     "output_type": "stream",
     "text": [
      "Standard deviation of heights: 8.591246929842246\n"
     ]
    }
   ],
   "source": [
    "heights = pd.Series([160, 170, 165, 155, 175, 180, 170])\n",
    "\n",
    "std_dev = heights.std()\n",
    "\n",
    "print(\"Standard deviation of heights:\", std_dev)"
   ]
  },
  {
   "cell_type": "markdown",
   "id": "58c15dcb",
   "metadata": {},
   "source": [
    "## 8. Scenario: A company wants to analyze the relationship between employee tenure and job satisfaction. The data collected is as follows:\n",
    "   ### Employee Tenure (in years): [2, 3, 5, 4, 6, 2, 4]\n",
    "   ### Job Satisfaction (on a scale of 1 to 10): [7, 8, 6, 9, 5, 7, 6]\n",
    "   ### Perform a linear regression analysis to predict job satisfaction based on employee tenure.\n"
   ]
  },
  {
   "cell_type": "code",
   "execution_count": 30,
   "id": "1cc570fa",
   "metadata": {},
   "outputs": [
    {
     "name": "stdout",
     "output_type": "stream",
     "text": [
      "Coefficient: -0.4680851063829787\n",
      "Intercept: 8.595744680851062\n"
     ]
    }
   ],
   "source": [
    "from sklearn.linear_model import LinearRegression\n",
    "\n",
    "employee_tenure = np.array([2, 3, 5, 4, 6, 2, 4]).reshape(-1, 1)\n",
    "job_satisfaction = np.array([7, 8, 6, 9, 5, 7, 6])\n",
    "\n",
    "model = LinearRegression()\n",
    "\n",
    "model.fit(employee_tenure, job_satisfaction)\n",
    "\n",
    "predicted_satisfaction = model.predict(employee_tenure)\n",
    "\n",
    "coefficient = model.coef_[0]\n",
    "intercept = model.intercept_\n",
    "\n",
    "print(\"Coefficient:\", coefficient)\n",
    "print(\"Intercept:\", intercept)\n"
   ]
  },
  {
   "cell_type": "markdown",
   "id": "4b452232",
   "metadata": {},
   "source": [
    "## 9. Scenario: A study is conducted to compare the effectiveness of two different medications. The recovery times of the patients in each group are as follows:\n",
    "   ### Medication A: [10, 12, 14, 11, 13]\n",
    "   ### Medication B: [15, 17, 16, 14, 18]\n",
    "   ### Perform an analysis of variance (ANOVA) to determine if there is a significant difference in the mean recovery times between the two medications.\n"
   ]
  },
  {
   "cell_type": "code",
   "execution_count": 31,
   "id": "c82f547f",
   "metadata": {},
   "outputs": [
    {
     "name": "stdout",
     "output_type": "stream",
     "text": [
      "F-statistic: 16.0\n",
      "P-value: 0.003949772803445326\n",
      "There is a significant difference in the mean recovery times between the two medications.\n"
     ]
    }
   ],
   "source": [
    "medication_a_times = [10, 12, 14, 11, 13]\n",
    "medication_b_times = [15, 17, 16, 14, 18]\n",
    "\n",
    "# Combine the data from both groups\n",
    "all_times = medication_a_times + medication_b_times\n",
    "\n",
    "# Create group labels\n",
    "group_labels = ['Medication A'] * len(medication_a_times) + ['Medication B'] * len(medication_b_times)\n",
    "\n",
    "# Perform one-way ANOVA\n",
    "f_statistic, p_value = stats.f_oneway(medication_a_times, medication_b_times)\n",
    "\n",
    "alpha = 0.05  # significance level\n",
    "\n",
    "print(\"F-statistic:\", f_statistic)\n",
    "print(\"P-value:\", p_value)\n",
    "\n",
    "if p_value < alpha:\n",
    "    print(\"There is a significant difference in the mean recovery times between the two medications.\")\n",
    "else:\n",
    "    print(\"There is no significant difference in the mean recovery times between the two medications.\")\n"
   ]
  },
  {
   "cell_type": "markdown",
   "id": "52158655",
   "metadata": {},
   "source": [
    "## 10. Scenario: A company wants to analyze customer feedback ratings on a scale of 1 to 10. The data collected is as follows:\n",
    "### [8, 9, 7, 6, 8, 10, 9, 8, 7, 8]\n",
    "### Calculate the 75th percentile of the feedback ratings.\n"
   ]
  },
  {
   "cell_type": "code",
   "execution_count": 32,
   "id": "998267fd",
   "metadata": {},
   "outputs": [
    {
     "name": "stdout",
     "output_type": "stream",
     "text": [
      "75th percentile of feedback ratings: 8.75\n"
     ]
    }
   ],
   "source": [
    "feedback_ratings = pd.Series([8, 9, 7, 6, 8, 10, 9, 8, 7, 8])\n",
    "\n",
    "percentile_75 = feedback_ratings.quantile(0.75)\n",
    "\n",
    "print(\"75th percentile of feedback ratings:\", percentile_75)\n"
   ]
  },
  {
   "cell_type": "markdown",
   "id": "f510e71f",
   "metadata": {},
   "source": [
    "## 11. Scenario: A quality control department wants to test the weight consistency of a product. The weights of a sample of products are as follows:\n",
    "### [10.2, 9.8, 10.0, 10.5, 10.3, 10.1]\n",
    "###    Perform a hypothesis test to determine if the mean weight differs significantly from 10 grams.\n"
   ]
  },
  {
   "cell_type": "code",
   "execution_count": 33,
   "id": "cdae4c43",
   "metadata": {},
   "outputs": [
    {
     "name": "stdout",
     "output_type": "stream",
     "text": [
      "T-statistic: 1.5126584522688367\n",
      "P-value: 0.19077595151110102\n",
      "The mean weight does not differ significantly from 10 grams.\n"
     ]
    }
   ],
   "source": [
    "sample_weights = [10.2, 9.8, 10.0, 10.5, 10.3, 10.1]\n",
    "\n",
    "# Perform one-sample t-test\n",
    "t_statistic, p_value = stats.ttest_1samp(sample_weights, 10)\n",
    "\n",
    "alpha = 0.05  # significance level\n",
    "\n",
    "print(\"T-statistic:\", t_statistic)\n",
    "print(\"P-value:\", p_value)\n",
    "\n",
    "if p_value < alpha:\n",
    "    print(\"The mean weight differs significantly from 10 grams.\")\n",
    "else:\n",
    "    print(\"The mean weight does not differ significantly from 10 grams.\")\n"
   ]
  },
  {
   "cell_type": "markdown",
   "id": "8f5b9b47",
   "metadata": {},
   "source": [
    "## 12. Scenario: A company wants to analyze the click-through rates of two different website designs. The number of clicks for each design is as follows:\n",
    "   ### Design A: [100, 120, 110, 90, 95]\n",
    "   ### Design B: [80, 85, 90, 95, 100]\n",
    "   ### Perform a chi-square test to determine if there is a significant difference in the click-through rates between the two designs.\n"
   ]
  },
  {
   "cell_type": "code",
   "execution_count": 34,
   "id": "814af0d2",
   "metadata": {},
   "outputs": [
    {
     "name": "stdout",
     "output_type": "stream",
     "text": [
      "Chi-square statistic: 6.110658166925435\n",
      "P-value: 0.19103526314060293\n",
      "There is no significant difference in the click-through rates between the two designs.\n"
     ]
    }
   ],
   "source": [
    "design_a_clicks = [100, 120, 110, 90, 95]\n",
    "design_b_clicks = [80, 85, 90, 95, 100]\n",
    "\n",
    "# Create an observed frequency table\n",
    "observed_freq = np.array([design_a_clicks, design_b_clicks])\n",
    "\n",
    "# Perform chi-square test\n",
    "chi2_statistic, p_value, _, _ = stats.chi2_contingency(observed_freq)\n",
    "\n",
    "alpha = 0.05  # significance level\n",
    "\n",
    "print(\"Chi-square statistic:\", chi2_statistic)\n",
    "print(\"P-value:\", p_value)\n",
    "\n",
    "if p_value < alpha:\n",
    "    print(\"There is a significant difference in the click-through rates between the two designs.\")\n",
    "else:\n",
    "    print(\"There is no significant difference in the click-through rates between the two designs.\")\n"
   ]
  },
  {
   "cell_type": "markdown",
   "id": "8c5d6a42",
   "metadata": {},
   "source": [
    "## 13. Scenario: A survey is conducted to measure customer satisfaction with a product on a scale of 1 to 10. The data collected is as follows:\n",
    "   ###  [7, 9, 6, 8, 10, 7, 8, 9, 7, 8]\n",
    "   ### Calculate the 95% confidence interval for the population mean satisfaction score.\n"
   ]
  },
  {
   "cell_type": "code",
   "execution_count": 35,
   "id": "47d39f12",
   "metadata": {},
   "outputs": [
    {
     "name": "stdout",
     "output_type": "stream",
     "text": [
      "95% Confidence Interval: (7.043561120599888, 8.756438879400113)\n"
     ]
    }
   ],
   "source": [
    "satisfaction_scores = [7, 9, 6, 8, 10, 7, 8, 9, 7, 8]\n",
    "\n",
    "confidence_level = 0.95\n",
    "\n",
    "sample_mean = np.mean(satisfaction_scores)\n",
    "sample_std = np.std(satisfaction_scores, ddof=1)  # using sample standard deviation\n",
    "\n",
    "n = len(satisfaction_scores)\n",
    "margin_of_error = stats.t.ppf((1 + confidence_level) / 2, df=n-1) * sample_std / np.sqrt(n)\n",
    "\n",
    "confidence_interval = (sample_mean - margin_of_error, sample_mean + margin_of_error)\n",
    "\n",
    "print(\"95% Confidence Interval:\", confidence_interval)\n"
   ]
  },
  {
   "cell_type": "markdown",
   "id": "0391e00b",
   "metadata": {},
   "source": [
    "## 14. Scenario: A company wants to analyze the effect of temperature on product performance. The data collected is as follows:\n",
    "   ### Temperature (in degrees Celsius): [20, 22, 23, 19, 21]\n",
    "   ### Performance (on a scale of 1 to 10): [8, 7, 9, 6, 8]\n",
    "   ### Perform a simple linear regression to predict performance based on temperature.\n"
   ]
  },
  {
   "cell_type": "code",
   "execution_count": 36,
   "id": "11dcd93a",
   "metadata": {},
   "outputs": [
    {
     "name": "stdout",
     "output_type": "stream",
     "text": [
      "Coefficient: 0.4999999999999999\n",
      "Intercept: -2.8999999999999986\n"
     ]
    }
   ],
   "source": [
    "temperature = np.array([20, 22, 23, 19, 21]).reshape(-1, 1)\n",
    "performance = np.array([8, 7, 9, 6, 8])\n",
    "\n",
    "# Create a linear regression model\n",
    "model = LinearRegression()\n",
    "\n",
    "# Fit the model using the temperature and performance data\n",
    "model.fit(temperature, performance)\n",
    "\n",
    "# Get the coefficient and intercept of the linear regression model\n",
    "coefficient = model.coef_[0]\n",
    "intercept = model.intercept_\n",
    "\n",
    "print(\"Coefficient:\", coefficient)\n",
    "print(\"Intercept:\", intercept)\n"
   ]
  },
  {
   "cell_type": "markdown",
   "id": "fc869152",
   "metadata": {},
   "source": [
    "## 15. Scenario: A study is conducted to compare the preferences of two groups of participants. The preferences are measured on a Likert scale from 1 to 5. The data collected is as follows:\n",
    "   ### Group A: [4, 3, 5, 2, 4]\n",
    "   ### Group B: [3, 2, 4, 3, 3]\n",
    "   ### Perform a Mann-Whitney U test to determine if there is a significant difference in the median preferences between the two groups.\n"
   ]
  },
  {
   "cell_type": "code",
   "execution_count": 38,
   "id": "f31f9a8c",
   "metadata": {},
   "outputs": [
    {
     "name": "stdout",
     "output_type": "stream",
     "text": [
      "Mann-Whitney U statistic: 17.0\n",
      "P-value: 0.380836480306712\n",
      "There is no significant difference in the median preferences between the two groups.\n"
     ]
    }
   ],
   "source": [
    "group_a_preferences = [4, 3, 5, 2, 4]\n",
    "group_b_preferences = [3, 2, 4, 3, 3]\n",
    "\n",
    "# Perform Mann-Whitney U test\n",
    "u_statistic, p_value = stats.mannwhitneyu(group_a_preferences, group_b_preferences)\n",
    "\n",
    "alpha = 0.05  # significance level\n",
    "\n",
    "print(\"Mann-Whitney U statistic:\", u_statistic)\n",
    "print(\"P-value:\", p_value)\n",
    "\n",
    "if p_value < alpha:\n",
    "    print(\"There is a significant difference in the median preferences between the two groups.\")\n",
    "else:\n",
    "    print(\"There is no significant difference in the median preferences between the two groups.\")\n"
   ]
  },
  {
   "cell_type": "markdown",
   "id": "d0f27f01",
   "metadata": {},
   "source": [
    "## 16. Scenario: A company wants to analyze the distribution of customer ages. The data collected is as follows:\n",
    "   ### [25, 30, 35, 40, 45, 50, 55, 60, 65, 70]\n",
    "   ### Calculate the interquartile range (IQR) of the ages.\n"
   ]
  },
  {
   "cell_type": "code",
   "execution_count": 39,
   "id": "25118751",
   "metadata": {},
   "outputs": [
    {
     "name": "stdout",
     "output_type": "stream",
     "text": [
      "Interquartile Range (IQR): 22.5\n"
     ]
    }
   ],
   "source": [
    "ages = pd.Series([25, 30, 35, 40, 45, 50, 55, 60, 65, 70])\n",
    "\n",
    "q1 = ages.quantile(0.25)\n",
    "q3 = ages.quantile(0.75)\n",
    "\n",
    "iqr = q3 - q1\n",
    "\n",
    "print(\"Interquartile Range (IQR):\", iqr)"
   ]
  },
  {
   "cell_type": "markdown",
   "id": "d50beb96",
   "metadata": {},
   "source": [
    "## 17. Scenario: A study is conducted to compare the performance of three different machine learning algorithms. The accuracy scores for each algorithm are as follows:\n",
    "   ### Algorithm A: [0.85, 0.80, 0.82, 0.87, 0.83]\n",
    "   ### Algorithm B: [0.78, 0.82, 0.84, 0.80, 0.79]\n",
    "   ### Algorithm C: [0.90, 0.88, 0.89, 0.86, 0.87]\n",
    "   ### Perform a Kruskal-Wallis test to determine if there is a significant difference in the median accuracy scores between the algorithms.\n"
   ]
  },
  {
   "cell_type": "code",
   "execution_count": 40,
   "id": "52286222",
   "metadata": {},
   "outputs": [
    {
     "name": "stdout",
     "output_type": "stream",
     "text": [
      "Kruskal-Wallis H statistic: 9.696947935368053\n",
      "P-value: 0.007840333026249539\n",
      "There is a significant difference in the median accuracy scores between the algorithms.\n"
     ]
    }
   ],
   "source": [
    "algorithm_a_scores = [0.85, 0.80, 0.82, 0.87, 0.83]\n",
    "algorithm_b_scores = [0.78, 0.82, 0.84, 0.80, 0.79]\n",
    "algorithm_c_scores = [0.90, 0.88, 0.89, 0.86, 0.87]\n",
    "\n",
    "# Perform Kruskal-Wallis test\n",
    "h_statistic, p_value = stats.kruskal(algorithm_a_scores, algorithm_b_scores, algorithm_c_scores)\n",
    "\n",
    "alpha = 0.05  # significance level\n",
    "\n",
    "print(\"Kruskal-Wallis H statistic:\", h_statistic)\n",
    "print(\"P-value:\", p_value)\n",
    "\n",
    "if p_value < alpha:\n",
    "    print(\"There is a significant difference in the median accuracy scores between the algorithms.\")\n",
    "else:\n",
    "    print(\"There is no significant difference in the median accuracy scores between the algorithms.\")\n"
   ]
  },
  {
   "cell_type": "markdown",
   "id": "692d7ff3",
   "metadata": {},
   "source": [
    "## 18. Scenario: A company wants to analyze the effect of price on sales. The data collected is as follows:\n",
    "   ### Price (in dollars): [10, 15, 12, 8, 14]\n",
    "   ### Sales: [100, 80, 90, 110, 95]\n",
    "   ### Perform a simple linear regression to predict  sales based on price.\n",
    "\n"
   ]
  },
  {
   "cell_type": "code",
   "execution_count": 42,
   "id": "e1e84893",
   "metadata": {},
   "outputs": [
    {
     "name": "stdout",
     "output_type": "stream",
     "text": [
      "Coefficient: -3.506097560975611\n",
      "Intercept: 136.3719512195122\n"
     ]
    }
   ],
   "source": [
    "price = np.array([10, 15, 12, 8, 14]).reshape(-1, 1)\n",
    "sales = np.array([100, 80, 90, 110, 95])\n",
    "\n",
    "# Create a linear regression model\n",
    "model = LinearRegression()\n",
    "\n",
    "# Fit the model using the price and sales data\n",
    "model.fit(price, sales)\n",
    "\n",
    "# Get the coefficient and intercept of the linear regression model\n",
    "coefficient = model.coef_[0]\n",
    "intercept = model.intercept_\n",
    "\n",
    "print(\"Coefficient:\", coefficient)\n",
    "print(\"Intercept:\", intercept)\n"
   ]
  },
  {
   "cell_type": "markdown",
   "id": "a966d95a",
   "metadata": {},
   "source": [
    "## 19. Scenario: A survey is conducted to measure the satisfaction levels of customers with a new product. The data collected is as follows:\n",
    "   ### [7, 8, 9, 6, 8, 7, 9, 7, 8, 7]\n",
    "   ### Calculate the standard error of the mean satisfaction score.\n"
   ]
  },
  {
   "cell_type": "code",
   "execution_count": 43,
   "id": "f2d88219",
   "metadata": {},
   "outputs": [
    {
     "name": "stdout",
     "output_type": "stream",
     "text": [
      "Standard Error of the Mean: 0.30550504633038933\n"
     ]
    }
   ],
   "source": [
    "satisfaction_scores = np.array([7, 8, 9, 6, 8, 7, 9, 7, 8, 7])\n",
    "\n",
    "standard_error = np.std(satisfaction_scores, ddof=1) / np.sqrt(len(satisfaction_scores))\n",
    "\n",
    "print(\"Standard Error of the Mean:\", standard_error)\n"
   ]
  },
  {
   "cell_type": "markdown",
   "id": "2bec9758",
   "metadata": {},
   "source": [
    "## 20. Scenario: A company wants to analyze the relationship between advertising expenditure and sales. The data collected is as follows:\n",
    "   ### Advertising Expenditure (in thousands): [10, 15, 12, 8, 14]\n",
    "   ### Sales (in thousands): [25, 30, 28, 20, 26]\n",
    "   ### Perform a multiple regression analysis to predict sales based on advertising expenditure.\n",
    "\n"
   ]
  },
  {
   "cell_type": "code",
   "execution_count": 44,
   "id": "472af07d",
   "metadata": {},
   "outputs": [
    {
     "name": "stdout",
     "output_type": "stream",
     "text": [
      "Coefficients: [1.15243902]\n",
      "Intercept: 12.20121951219512\n"
     ]
    }
   ],
   "source": [
    "advertising_expenditure = np.array([10, 15, 12, 8, 14]).reshape(-1, 1)\n",
    "sales = np.array([25, 30, 28, 20, 26])\n",
    "\n",
    "# Create a multiple regression model\n",
    "model = LinearRegression()\n",
    "\n",
    "# Fit the model using the advertising expenditure and sales data\n",
    "model.fit(advertising_expenditure, sales)\n",
    "\n",
    "# Get the coefficients and intercept of the multiple regression model\n",
    "coefficients = model.coef_\n",
    "intercept = model.intercept_\n",
    "\n",
    "print(\"Coefficients:\", coefficients)\n",
    "print(\"Intercept:\", intercept)\n"
   ]
  },
  {
   "cell_type": "code",
   "execution_count": null,
   "id": "5ada3fb5",
   "metadata": {},
   "outputs": [],
   "source": []
  }
 ],
 "metadata": {
  "kernelspec": {
   "display_name": "Python 3 (ipykernel)",
   "language": "python",
   "name": "python3"
  },
  "language_info": {
   "codemirror_mode": {
    "name": "ipython",
    "version": 3
   },
   "file_extension": ".py",
   "mimetype": "text/x-python",
   "name": "python",
   "nbconvert_exporter": "python",
   "pygments_lexer": "ipython3",
   "version": "3.9.13"
  }
 },
 "nbformat": 4,
 "nbformat_minor": 5
}
